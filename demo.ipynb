{
 "cells": [
  {
   "cell_type": "code",
   "execution_count": 1,
   "metadata": {},
   "outputs": [],
   "source": [
    "from cleaner import cleaner\n",
    "from solver import solver"
   ]
  },
  {
   "cell_type": "code",
   "execution_count": 2,
   "metadata": {},
   "outputs": [],
   "source": [
    "letters = 'mdeiwln'\n",
    "letters = cleaner(letters)"
   ]
  },
  {
   "cell_type": "code",
   "execution_count": 3,
   "metadata": {},
   "outputs": [
    {
     "data": {
      "text/plain": [
       "91"
      ]
     },
     "execution_count": 3,
     "metadata": {},
     "output_type": "execute_result"
    }
   ],
   "source": [
    "solutions = solver(letters)\n",
    "len(solutions)"
   ]
  },
  {
   "cell_type": "code",
   "execution_count": 4,
   "metadata": {},
   "outputs": [
    {
     "data": {
      "text/plain": [
       "['deem',\n",
       " 'deemed',\n",
       " 'deme',\n",
       " 'demi',\n",
       " 'denim',\n",
       " 'diem',\n",
       " 'dime',\n",
       " 'dimmed',\n",
       " 'elemi',\n",
       " 'elmen',\n",
       " 'emden',\n",
       " 'emend',\n",
       " 'emended',\n",
       " 'emil',\n",
       " 'emile',\n",
       " 'idem',\n",
       " 'imide',\n",
       " 'imine',\n",
       " 'leme',\n",
       " 'lemed',\n",
       " 'lemel',\n",
       " 'lime',\n",
       " 'limed',\n",
       " 'limen',\n",
       " 'limine',\n",
       " 'limn',\n",
       " 'limned',\n",
       " 'linemen',\n",
       " 'meddle',\n",
       " 'meddled',\n",
       " 'mede',\n",
       " 'medellin',\n",
       " 'medle',\n",
       " 'meed',\n",
       " 'meemie',\n",
       " 'mein',\n",
       " 'meined',\n",
       " 'meinie',\n",
       " 'meld',\n",
       " 'melded',\n",
       " 'melee',\n",
       " 'mell',\n",
       " 'melle',\n",
       " 'melled',\n",
       " 'meme',\n",
       " 'mend',\n",
       " 'mended',\n",
       " 'mendel',\n",
       " 'mene',\n",
       " 'mened',\n",
       " 'mewed',\n",
       " 'mewl',\n",
       " 'mewled',\n",
       " 'midden',\n",
       " 'middle',\n",
       " 'middlemen',\n",
       " 'midi',\n",
       " 'mien',\n",
       " 'mild',\n",
       " 'milden',\n",
       " 'mildened',\n",
       " 'mildew',\n",
       " 'mildewed',\n",
       " 'mile',\n",
       " 'mill',\n",
       " 'mille',\n",
       " 'milled',\n",
       " 'milli',\n",
       " 'millie',\n",
       " 'millieme',\n",
       " 'millime',\n",
       " 'milne',\n",
       " 'mime',\n",
       " 'mimed',\n",
       " 'mimi',\n",
       " 'mind',\n",
       " 'minded',\n",
       " 'mindel',\n",
       " 'mine',\n",
       " 'mined',\n",
       " 'mini',\n",
       " 'minie',\n",
       " 'minim',\n",
       " 'minnelli',\n",
       " 'minnie',\n",
       " 'mneme',\n",
       " 'neem',\n",
       " 'nimmed',\n",
       " 'weem',\n",
       " 'windmill',\n",
       " 'windmilled']"
      ]
     },
     "execution_count": 4,
     "metadata": {},
     "output_type": "execute_result"
    }
   ],
   "source": [
    "solutions"
   ]
  }
 ],
 "metadata": {
  "kernelspec": {
   "display_name": "sb-solver",
   "language": "python",
   "name": "python3"
  },
  "language_info": {
   "codemirror_mode": {
    "name": "ipython",
    "version": 3
   },
   "file_extension": ".py",
   "mimetype": "text/x-python",
   "name": "python",
   "nbconvert_exporter": "python",
   "pygments_lexer": "ipython3",
   "version": "3.8.16"
  },
  "orig_nbformat": 4,
  "vscode": {
   "interpreter": {
    "hash": "b12ade4783ac2e894ec2757fd3fafdaa18cba14484b4160a773122a6614c8d20"
   }
  }
 },
 "nbformat": 4,
 "nbformat_minor": 2
}
